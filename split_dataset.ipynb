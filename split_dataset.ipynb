{
 "cells": [
  {
   "cell_type": "code",
   "execution_count": 12,
   "metadata": {},
   "outputs": [],
   "source": [
    "import os\n",
    "import random\n",
    "import shutil\n",
    "from PIL import Image\n",
    "from glob import glob\n",
    "from shutil import copyfile\n",
    "import numpy as np\n",
    "from sklearn.metrics import roc_auc_score, confusion_matrix, classification_report"
   ]
  },
  {
   "cell_type": "code",
   "execution_count": 2,
   "metadata": {},
   "outputs": [
    {
     "name": "stdout",
     "output_type": "stream",
     "text": [
      "Normal Cases 10192\n",
      "covid Cases 3616\n",
      "Lung_Op Cases 6012\n",
      "Pneumonia Cases 1345\n"
     ]
    }
   ],
   "source": [
    "normal = os.listdir('/home/ssehg1@cfreg.local/covid_detection/COVID-19_Radiography_Dataset/Normal/images')\n",
    "print('Normal Cases', len(normal))\n",
    "\n",
    "covid = os.listdir('/home/ssehg1@cfreg.local/covid_detection/COVID-19_Radiography_Dataset/COVID/images')\n",
    "print('covid Cases', len(covid))\n",
    "\n",
    "Lung_Op = os.listdir('/home/ssehg1@cfreg.local/covid_detection/COVID-19_Radiography_Dataset/Lung_Opacity/images')\n",
    "print('Lung_Op Cases', len(Lung_Op))\n",
    "\n",
    "Pneumonia = os.listdir('/home/ssehg1@cfreg.local/covid_detection/COVID-19_Radiography_Dataset/Viral Pneumonia/images')\n",
    "print('Pneumonia Cases', len(Pneumonia))"
   ]
  },
  {
   "cell_type": "code",
   "execution_count": 4,
   "metadata": {},
   "outputs": [],
   "source": []
  },
  {
   "cell_type": "code",
   "execution_count": 3,
   "metadata": {},
   "outputs": [],
   "source": [
    "def sample_data(source, root_dir, cls):\n",
    "    test_ratio = .25\n",
    "    val_ratio = 0.15\n",
    "    all_ = os.listdir(source)\n",
    "    all_files = random.sample(all_, 800)\n",
    "    np.random.shuffle(all_files)\n",
    "    train_FileNames, test_FileNames, val_FileNames = np.split(np.array(all_files),\n",
    "                                                                    [int(len(all_files) * (1 - (val_ratio + test_ratio))),\n",
    "                                                                    int(len(all_files) * (1 - val_ratio)),\n",
    "                                                                    ])\n",
    "\n",
    "    train_FileNames = [source + '/' + name for name in train_FileNames.tolist()]\n",
    "    val_FileNames = [source + '/' + name for name in val_FileNames.tolist()]\n",
    "    test_FileNames = [source + '/' + name for name in test_FileNames.tolist()]\n",
    "    print('Total images: '+ str(len(all_files)))\n",
    "    print('Training: '+ str(len(train_FileNames)))\n",
    "    print('Validation: '+  str(len(val_FileNames)))\n",
    "    print('Testing: '+ str(len(test_FileNames)))\n",
    "\n",
    "    os.makedirs(root_dir + '/train/' + cls)\n",
    "    os.makedirs(root_dir + '/val/' + cls)\n",
    "    os.makedirs(root_dir + '/test/' + cls)\n",
    "\n",
    "    for name in train_FileNames:\n",
    "        shutil.copy(name, root_dir + '/train/' + cls)\n",
    "\n",
    "    for name in val_FileNames:\n",
    "        shutil.copy(name, root_dir + '/val/' + cls)\n",
    "\n",
    "    for name in test_FileNames:\n",
    "        shutil.copy(name, root_dir + '/test/' + cls)"
   ]
  },
  {
   "cell_type": "code",
   "execution_count": 28,
   "metadata": {},
   "outputs": [],
   "source": [
    "# Original Image paths - Names\n",
    "train_covid = '/home/ssehg1@cfreg.local/covid_detection/COVID-19_Radiography_Dataset/research_data/train/COVID/'\n",
    "val_covid = '/home/ssehg1@cfreg.local/covid_detection/COVID-19_Radiography_Dataset/research_data/val/COVID/'\n",
    "test_covid = '/home/ssehg1@cfreg.local/covid_detection/COVID-19_Radiography_Dataset/research_data/test/COVID/'\n",
    "\n",
    "\n",
    "train_normal = '/home/ssehg1@cfreg.local/covid_detection/COVID-19_Radiography_Dataset/research_data/train/normal/'\n",
    "val_normal = '/home/ssehg1@cfreg.local/covid_detection/COVID-19_Radiography_Dataset/research_data/val/normal/'\n",
    "test_normal = '/home/ssehg1@cfreg.local/covid_detection/COVID-19_Radiography_Dataset/research_data/test/normal/'\n",
    "\n",
    "original_file_paths = [train_covid, val_covid, test_covid, train_normal, val_normal, test_normal]"
   ]
  },
  {
   "cell_type": "code",
   "execution_count": 29,
   "metadata": {},
   "outputs": [],
   "source": [
    "# masks Images paths - Source\n",
    "train_covid = '/home/ssehg1@cfreg.local/covid_detection/COVID-19_Radiography_Dataset/COVID/masks/'\n",
    "val_covid = '/home/ssehg1@cfreg.local/covid_detection/COVID-19_Radiography_Dataset/COVID/masks/'\n",
    "test_covid = '/home/ssehg1@cfreg.local/covid_detection/COVID-19_Radiography_Dataset/COVID/masks/'\n",
    "\n",
    "\n",
    "train_normal = '/home/ssehg1@cfreg.local/covid_detection/COVID-19_Radiography_Dataset/Normal/masks/'\n",
    "val_normal = '/home/ssehg1@cfreg.local/covid_detection/COVID-19_Radiography_Dataset/Normal/masks/'\n",
    "test_normal = '/home/ssehg1@cfreg.local/covid_detection/COVID-19_Radiography_Dataset/Normal/masks/'\n",
    "\n",
    "masks_file_paths_src = [train_covid, val_covid, test_covid, train_normal, val_normal, test_normal]"
   ]
  },
  {
   "cell_type": "code",
   "execution_count": 30,
   "metadata": {},
   "outputs": [],
   "source": [
    "# masks Images paths - Destination\n",
    "train_covid = '/home/ssehg1@cfreg.local/covid_detection/COVID-19_Radiography_Dataset/masked_images/train/COVID/'\n",
    "val_covid = '/home/ssehg1@cfreg.local/covid_detection/COVID-19_Radiography_Dataset/masked_images/val/COVID/'\n",
    "test_covid = '/home/ssehg1@cfreg.local/covid_detection/COVID-19_Radiography_Dataset/masked_images/test/COVID/'\n",
    "\n",
    "\n",
    "train_normal = '/home/ssehg1@cfreg.local/covid_detection/COVID-19_Radiography_Dataset/masked_images/train/normal/'\n",
    "val_normal = '/home/ssehg1@cfreg.local/covid_detection/COVID-19_Radiography_Dataset/masked_images/val/normal/'\n",
    "test_normal = '/home/ssehg1@cfreg.local/covid_detection/COVID-19_Radiography_Dataset/masked_images/test/normal/'\n",
    "\n",
    "masks_file_paths_dest = [train_covid, val_covid, test_covid, train_normal, val_normal, test_normal]"
   ]
  },
  {
   "cell_type": "code",
   "execution_count": 47,
   "metadata": {},
   "outputs": [],
   "source": [
    "for i in range(len(masks_file_paths_dest)):\n",
    "    files = os.listdir(original_file_paths[i])\n",
    "    FileNames = [masks_file_paths_src[i] + name for name in files]\n",
    "    for name in files:\n",
    "        shutil.copy(masks_file_paths_src[i] + name, masks_file_paths_dest[i] + name, follow_symlinks=True)"
   ]
  },
  {
   "cell_type": "code",
   "execution_count": 31,
   "metadata": {},
   "outputs": [],
   "source": [
    "for i in range(len(masks_file_paths_dest)):\n",
    "    files = os.listdir(original_file_paths[i])\n",
    "    for name in files:\n",
    "        image1 = Image.open(original_file_paths[i] + name).convert('RGB')\n",
    "        image2 = Image.open(masks_file_paths_src[i] + name).convert('RGB')\n",
    "\n",
    "        img1_array = np.array(image1.resize((224, 224)))\n",
    "        img2_array = np.array(image2.resize((224, 224)))\n",
    "\n",
    "        result_array = np.multiply(img1_array, img2_array)\n",
    "        result_image = Image.fromarray(result_array)\n",
    "        \n",
    "        result_image.save(masks_file_paths_dest[i] + name)"
   ]
  },
  {
   "cell_type": "code",
   "execution_count": 36,
   "metadata": {},
   "outputs": [
    {
     "data": {
      "text/plain": [
       "1345"
      ]
     },
     "execution_count": 36,
     "metadata": {},
     "output_type": "execute_result"
    }
   ],
   "source": [
    "# len(os.listdir('COVID-19_Radiography_Dataset/Viral Pneumonia/images'))"
   ]
  },
  {
   "cell_type": "code",
   "execution_count": null,
   "metadata": {},
   "outputs": [],
   "source": []
  },
  {
   "cell_type": "code",
   "execution_count": 59,
   "metadata": {},
   "outputs": [],
   "source": []
  },
  {
   "cell_type": "code",
   "execution_count": null,
   "metadata": {},
   "outputs": [],
   "source": []
  },
  {
   "cell_type": "code",
   "execution_count": null,
   "metadata": {},
   "outputs": [],
   "source": []
  },
  {
   "cell_type": "code",
   "execution_count": null,
   "metadata": {},
   "outputs": [],
   "source": []
  },
  {
   "cell_type": "code",
   "execution_count": null,
   "metadata": {},
   "outputs": [],
   "source": []
  },
  {
   "cell_type": "code",
   "execution_count": null,
   "metadata": {},
   "outputs": [],
   "source": []
  },
  {
   "cell_type": "code",
   "execution_count": null,
   "metadata": {},
   "outputs": [],
   "source": []
  },
  {
   "cell_type": "code",
   "execution_count": null,
   "metadata": {},
   "outputs": [],
   "source": []
  },
  {
   "cell_type": "code",
   "execution_count": null,
   "metadata": {},
   "outputs": [],
   "source": []
  },
  {
   "cell_type": "code",
   "execution_count": null,
   "metadata": {},
   "outputs": [],
   "source": []
  },
  {
   "cell_type": "code",
   "execution_count": null,
   "metadata": {},
   "outputs": [],
   "source": []
  },
  {
   "cell_type": "code",
   "execution_count": null,
   "metadata": {},
   "outputs": [],
   "source": []
  },
  {
   "cell_type": "code",
   "execution_count": null,
   "metadata": {},
   "outputs": [],
   "source": []
  },
  {
   "cell_type": "code",
   "execution_count": null,
   "metadata": {},
   "outputs": [],
   "source": []
  },
  {
   "cell_type": "code",
   "execution_count": null,
   "metadata": {},
   "outputs": [],
   "source": []
  },
  {
   "cell_type": "code",
   "execution_count": 21,
   "metadata": {},
   "outputs": [
    {
     "name": "stdout",
     "output_type": "stream",
     "text": [
      "Total images: 800\n",
      "Training: 480\n",
      "Validation: 120\n",
      "Testing: 200\n"
     ]
    }
   ],
   "source": [
    "source = 'COVID-19_Radiography_Dataset/COVID/images'\n",
    "root_dir = 'COVID-19_Radiography_Dataset/research_data'\n",
    "cls = \"COVID\"\n",
    "sample_data(source, root_dir, cls)"
   ]
  },
  {
   "cell_type": "code",
   "execution_count": 22,
   "metadata": {},
   "outputs": [
    {
     "name": "stdout",
     "output_type": "stream",
     "text": [
      "Total images: 800\n",
      "Training: 480\n",
      "Validation: 120\n",
      "Testing: 200\n"
     ]
    }
   ],
   "source": [
    "source = 'COVID-19_Radiography_Dataset/Normal/images'\n",
    "root_dir = 'COVID-19_Radiography_Dataset/research_data'\n",
    "cls = \"normal\"\n",
    "sample_data(source, root_dir, cls)"
   ]
  },
  {
   "cell_type": "code",
   "execution_count": 9,
   "metadata": {},
   "outputs": [],
   "source": [
    "def split_data(source, train_path, test_path, split_size, split_type):\n",
    "    if split_type == \"normal\": \n",
    "        all_files=os.listdir(source)\n",
    "        down_Sample_files=random.sample(all_files, int(len(all_files) * 0.36))\n",
    "        train_files=random.sample(down_Sample_files, int(len(down_Sample_files) * split_size))\n",
    "    else:\n",
    "        all_files=os.listdir(source)\n",
    "        train_files=random.sample(all_files, int(len(all_files) * split_size))\n",
    "    for f in train_files: copyfile(source + f, train_path + f)\n",
    "    for f in os.listdir(source):\n",
    "        if split_type == \"normal\": \n",
    "            if f not in train_files and f in down_Sample_files:\n",
    "                copyfile(source + f, test_path + f)\n",
    "        else:\n",
    "            if f not in train_files:\n",
    "                copyfile(source + f, test_path + f)"
   ]
  },
  {
   "cell_type": "code",
   "execution_count": 74,
   "metadata": {},
   "outputs": [],
   "source": [
    "# NORMAL_DATA_PATH = BASE_PATH + \"/Normal/images/\"\n",
    "# COVID_DATA_PATH = BASE_PATH + \"/COVID/images/\"\n",
    "\n",
    "# Test to check if paths are correct and working\n",
    "# covid_files = len(os.listdir(COVID_DATA_PATH))\n",
    "# normal_files = len(os.listdir(NORMAL_DATA_PATH))\n",
    "\n",
    "# print(f\"COVID-19 Xray Scans: {covid_files}\")\n",
    "# print(f\"Normal Xray Scans: {normal_files}\")\n",
    "\n",
    "# TRAIN_NORMAL_PATH = BASE_PATH + \"/data/training/normal/\"\n",
    "# TRAIN_COVID_PATH = BASE_PATH + \"/data/training/covid/\"\n",
    "# TEST_NORMAL_PATH = BASE_PATH + \"/data/testing/normal/\"\n",
    "# TEST_COVID_PATH = BASE_PATH + \"/data/testing/covid/\" \n",
    "\n",
    "# train_normal_files = len(os.listdir(TRAIN_NORMAL_PATH))\n",
    "# train_covid_files = len(os.listdir(TRAIN_COVID_PATH))\n",
    "\n",
    "# test_normal_files = len(os.listdir(TEST_NORMAL_PATH))\n",
    "# test_covid_files = len(os.listdir(TEST_COVID_PATH))\n",
    "\n",
    "# print(f\"Training Set - Normal: {train_normal_files}\")\n",
    "# print(f\"Training Set - Covid: {train_covid_files}\")\n",
    "\n",
    "# print(f\"Testting Set - Normal: {test_normal_files}\")\n",
    "# print(f\"Testting Set - Covid: {test_covid_files}\")"
   ]
  },
  {
   "cell_type": "code",
   "execution_count": null,
   "metadata": {},
   "outputs": [],
   "source": [
    "# SPLIT_SIZE = 0.8\n",
    "# split_data(NORMAL_DATA_PATH, TRAIN_NORMAL_PATH, TEST_NORMAL_PATH, SPLIT_SIZE, 'normal')\n",
    "# split_data(COVID_DATA_PATH, TRAIN_COVID_PATH, TEST_COVID_PATH, SPLIT_SIZE, \"covid\")"
   ]
  },
  {
   "cell_type": "code",
   "execution_count": 4,
   "metadata": {},
   "outputs": [],
   "source": [
    "pred = np.load('pred_2024-09-12 06:51:12.264180.npz')['arr_0']"
   ]
  },
  {
   "cell_type": "code",
   "execution_count": null,
   "metadata": {},
   "outputs": [],
   "source": []
  },
  {
   "cell_type": "code",
   "execution_count": 5,
   "metadata": {},
   "outputs": [],
   "source": [
    "def compute_aucs(predictions, labels):\n",
    "    num_classes = predictions.shape[1]\n",
    "    aucs = np.zeros(num_classes)\n",
    "    for i in range(num_classes):\n",
    "        aucs[i] = roc_auc_score(labels[:, i], predictions[:, i])\n",
    "    return aucs"
   ]
  },
  {
   "cell_type": "code",
   "execution_count": 41,
   "metadata": {},
   "outputs": [
    {
     "name": "stdout",
     "output_type": "stream",
     "text": [
      "Found 400 images belonging to 2 classes.\n"
     ]
    }
   ],
   "source": [
    "INPUT_SHAPE = 224\n",
    "VALIDATION_BATCH_SIZE = 40\n",
    "BASE_PATH = \"/home/ssehg1@cfreg.local/covid_detection/COVID-19_Radiography_Dataset\"\n",
    "TEST_DIR = BASE_PATH + \"/research_data/test\"\n",
    "test_datagen = ImageDataGenerator()\n",
    "test_generator = test_datagen.flow_from_directory(TEST_DIR, batch_size = VALIDATION_BATCH_SIZE,\n",
    "                                                target_size = (INPUT_SHAPE, INPUT_SHAPE), class_mode = \"categorical\", shuffle=False)"
   ]
  },
  {
   "cell_type": "code",
   "execution_count": 42,
   "metadata": {},
   "outputs": [],
   "source": [
    "labels = test_generator.labels"
   ]
  },
  {
   "cell_type": "code",
   "execution_count": null,
   "metadata": {},
   "outputs": [],
   "source": [
    "y_pred = np.argmax(pred, axis=1)\n",
    "y_pred"
   ]
  },
  {
   "cell_type": "code",
   "execution_count": null,
   "metadata": {},
   "outputs": [],
   "source": [
    "y_pred = np.where(pred>0.5, 1, 0)\n",
    "y_pred"
   ]
  },
  {
   "cell_type": "code",
   "execution_count": null,
   "metadata": {},
   "outputs": [],
   "source": [
    "confusion_matrix(labels, y_pred)"
   ]
  },
  {
   "cell_type": "code",
   "execution_count": 37,
   "metadata": {},
   "outputs": [
    {
     "name": "stdout",
     "output_type": "stream",
     "text": [
      "              precision    recall  f1-score   support\n",
      "\n",
      "           0       0.87      0.20      0.33       200\n",
      "           1       0.55      0.97      0.70       200\n",
      "\n",
      "    accuracy                           0.59       400\n",
      "   macro avg       0.71      0.59      0.52       400\n",
      "weighted avg       0.71      0.59      0.52       400\n",
      "\n"
     ]
    }
   ],
   "source": [
    "print(classification_report(labels, y_pred))"
   ]
  },
  {
   "cell_type": "code",
   "execution_count": 52,
   "metadata": {},
   "outputs": [
    {
     "data": {
      "text/plain": [
       "array([0.7625])"
      ]
     },
     "execution_count": 52,
     "metadata": {},
     "output_type": "execute_result"
    }
   ],
   "source": [
    "compute_aucs(np.argmax(pred, axis=1).reshape(400, 1), labels.reshape(400, 1))"
   ]
  },
  {
   "cell_type": "code",
   "execution_count": 10,
   "metadata": {},
   "outputs": [],
   "source": [
    "from tensorflow.keras.applications import DenseNet121, ResNet152, EfficientNetB0\n",
    "from tensorflow.keras.applications.vgg19 import VGG19"
   ]
  },
  {
   "cell_type": "code",
   "execution_count": 11,
   "metadata": {},
   "outputs": [],
   "source": [
    "# base_model = EfficientNetB0(\n",
    "#             include_top=False,\n",
    "#             weights=\"imagenet\",\n",
    "#             input_shape=(224, 224, 3),)\n",
    "\n",
    "base_model = VGG19(\n",
    "            include_top=False,\n",
    "            weights=\"imagenet\",\n",
    "            input_shape=(224,224,3),\n",
    "            # pooling=\"max\",\n",
    "        )"
   ]
  },
  {
   "cell_type": "code",
   "execution_count": 13,
   "metadata": {},
   "outputs": [
    {
     "name": "stdout",
     "output_type": "stream",
     "text": [
      "Model: \"vgg19\"\n",
      "_________________________________________________________________\n",
      " Layer (type)                Output Shape              Param #   \n",
      "=================================================================\n",
      " input_3 (InputLayer)        [(None, 224, 224, 3)]     0         \n",
      "                                                                 \n",
      " block1_conv1 (Conv2D)       (None, 224, 224, 64)      1792      \n",
      "                                                                 \n",
      " block1_conv2 (Conv2D)       (None, 224, 224, 64)      36928     \n",
      "                                                                 \n",
      " block1_pool (MaxPooling2D)  (None, 112, 112, 64)      0         \n",
      "                                                                 \n",
      " block2_conv1 (Conv2D)       (None, 112, 112, 128)     73856     \n",
      "                                                                 \n",
      " block2_conv2 (Conv2D)       (None, 112, 112, 128)     147584    \n",
      "                                                                 \n",
      " block2_pool (MaxPooling2D)  (None, 56, 56, 128)       0         \n",
      "                                                                 \n",
      " block3_conv1 (Conv2D)       (None, 56, 56, 256)       295168    \n",
      "                                                                 \n",
      " block3_conv2 (Conv2D)       (None, 56, 56, 256)       590080    \n",
      "                                                                 \n",
      " block3_conv3 (Conv2D)       (None, 56, 56, 256)       590080    \n",
      "                                                                 \n",
      " block3_conv4 (Conv2D)       (None, 56, 56, 256)       590080    \n",
      "                                                                 \n",
      " block3_pool (MaxPooling2D)  (None, 28, 28, 256)       0         \n",
      "                                                                 \n",
      " block4_conv1 (Conv2D)       (None, 28, 28, 512)       1180160   \n",
      "                                                                 \n",
      " block4_conv2 (Conv2D)       (None, 28, 28, 512)       2359808   \n",
      "                                                                 \n",
      " block4_conv3 (Conv2D)       (None, 28, 28, 512)       2359808   \n",
      "                                                                 \n",
      " block4_conv4 (Conv2D)       (None, 28, 28, 512)       2359808   \n",
      "                                                                 \n",
      " block4_pool (MaxPooling2D)  (None, 14, 14, 512)       0         \n",
      "                                                                 \n",
      " block5_conv1 (Conv2D)       (None, 14, 14, 512)       2359808   \n",
      "                                                                 \n",
      " block5_conv2 (Conv2D)       (None, 14, 14, 512)       2359808   \n",
      "                                                                 \n",
      " block5_conv3 (Conv2D)       (None, 14, 14, 512)       2359808   \n",
      "                                                                 \n",
      " block5_conv4 (Conv2D)       (None, 14, 14, 512)       2359808   \n",
      "                                                                 \n",
      " block5_pool (MaxPooling2D)  (None, 7, 7, 512)         0         \n",
      "                                                                 \n",
      "=================================================================\n",
      "Total params: 20024384 (76.39 MB)\n",
      "Trainable params: 20024384 (76.39 MB)\n",
      "Non-trainable params: 0 (0.00 Byte)\n",
      "_________________________________________________________________\n",
      "None\n"
     ]
    }
   ],
   "source": [
    "print(base_model.summary())"
   ]
  },
  {
   "cell_type": "code",
   "execution_count": 21,
   "metadata": {},
   "outputs": [
    {
     "data": {
      "text/plain": [
       "22"
      ]
     },
     "execution_count": 21,
     "metadata": {},
     "output_type": "execute_result"
    }
   ],
   "source": [
    "len(base_model.layers[0:25])"
   ]
  },
  {
   "cell_type": "code",
   "execution_count": null,
   "metadata": {},
   "outputs": [],
   "source": []
  },
  {
   "cell_type": "code",
   "execution_count": null,
   "metadata": {},
   "outputs": [],
   "source": []
  },
  {
   "cell_type": "code",
   "execution_count": null,
   "metadata": {},
   "outputs": [],
   "source": []
  },
  {
   "cell_type": "code",
   "execution_count": null,
   "metadata": {},
   "outputs": [],
   "source": []
  },
  {
   "cell_type": "code",
   "execution_count": null,
   "metadata": {},
   "outputs": [],
   "source": []
  },
  {
   "cell_type": "code",
   "execution_count": null,
   "metadata": {},
   "outputs": [],
   "source": []
  },
  {
   "cell_type": "code",
   "execution_count": null,
   "metadata": {},
   "outputs": [],
   "source": []
  },
  {
   "cell_type": "code",
   "execution_count": null,
   "metadata": {},
   "outputs": [],
   "source": []
  },
  {
   "cell_type": "code",
   "execution_count": null,
   "metadata": {},
   "outputs": [],
   "source": []
  },
  {
   "cell_type": "code",
   "execution_count": null,
   "metadata": {},
   "outputs": [],
   "source": []
  },
  {
   "cell_type": "code",
   "execution_count": null,
   "metadata": {},
   "outputs": [],
   "source": []
  },
  {
   "cell_type": "code",
   "execution_count": null,
   "metadata": {},
   "outputs": [],
   "source": []
  },
  {
   "cell_type": "code",
   "execution_count": null,
   "metadata": {},
   "outputs": [],
   "source": [
    "\n"
   ]
  }
 ],
 "metadata": {
  "kernelspec": {
   "display_name": "test",
   "language": "python",
   "name": "python3"
  },
  "language_info": {
   "codemirror_mode": {
    "name": "ipython",
    "version": 3
   },
   "file_extension": ".py",
   "mimetype": "text/x-python",
   "name": "python",
   "nbconvert_exporter": "python",
   "pygments_lexer": "ipython3",
   "version": "3.10.0"
  }
 },
 "nbformat": 4,
 "nbformat_minor": 2
}
